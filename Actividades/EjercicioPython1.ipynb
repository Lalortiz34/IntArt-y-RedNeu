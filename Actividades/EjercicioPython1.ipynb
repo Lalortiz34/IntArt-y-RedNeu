{
  "nbformat": 4,
  "nbformat_minor": 0,
  "metadata": {
    "colab": {
      "provenance": [],
      "toc_visible": true
    },
    "kernelspec": {
      "name": "python3",
      "display_name": "Python 3"
    },
    "language_info": {
      "name": "python"
    }
  },
  "cells": [
    {
      "cell_type": "code",
      "execution_count": null,
      "metadata": {
        "id": "VQHUPJHn3pbK"
      },
      "outputs": [],
      "source": []
    },
    {
      "cell_type": "markdown",
      "source": [
        "# Ejercicio 1\n",
        "\n",
        "Desarrolla un algoritmo que le pida al usuario por su nombre y que lo salude con su nombre, excepto si se llama “Ana”, “Juan”, y “Pedro”.\n"
      ],
      "metadata": {
        "id": "SpiPvsGc4fIC"
      }
    },
    {
      "cell_type": "code",
      "source": [
        "nom = input(\"Hola, dime tu nombre:\")\n",
        "if nom == \"Ana\" or \"Juan\" or \"Pedro\":\n",
        "   print(\"No te conozco\")\n",
        "else:\n",
        "   print(\"Hola\" + nom)"
      ],
      "metadata": {
        "colab": {
          "base_uri": "https://localhost:8080/"
        },
        "id": "8r4D79we4vic",
        "outputId": "6b6ca166-2958-4365-d876-f0b20e0eea83"
      },
      "execution_count": 81,
      "outputs": [
        {
          "output_type": "stream",
          "name": "stdout",
          "text": [
            "Hola, dime tu nombre:Juan\n",
            "No te conozco\n"
          ]
        }
      ]
    },
    {
      "cell_type": "markdown",
      "source": [
        "# Ejercicio 2\n",
        "\n",
        "Desarrolla un algoritmo que por medio de una función, le pida al usuario una lista de N elementos y como resultado invierta el sentido de la lista. "
      ],
      "metadata": {
        "id": "Ibv9Q4nZJwx-"
      }
    },
    {
      "cell_type": "code",
      "source": [
        "lista=[]\n",
        "print(\"¿Cuántos elementos desea?\")\n",
        "cant = int(input())\n",
        "i=0\n",
        "while i<cant:\n",
        "  print(\"Ingrese el elemento\",i+1)\n",
        "  nom = input()\n",
        "  lista.append(nom)\n",
        "  i+=1\n",
        "lista.sort()\n",
        "lista2 = lista[::-1]\n",
        "print(lista2)"
      ],
      "metadata": {
        "colab": {
          "base_uri": "https://localhost:8080/"
        },
        "id": "aKkj-e7bJ9Js",
        "outputId": "41ac7449-74fc-42f4-d3e6-585660fd98b5"
      },
      "execution_count": 29,
      "outputs": [
        {
          "output_type": "stream",
          "name": "stdout",
          "text": [
            "¿Cuántos elementos desea?\n",
            "2\n",
            "Ingrese el elemento 1\n",
            "0\n",
            "Ingrese el elemento 2\n",
            "1\n",
            "['1', '0']\n"
          ]
        }
      ]
    },
    {
      "cell_type": "markdown",
      "source": [
        "# Ejercicio 3\n",
        "\n",
        "Desarrolla un algoritmo que le pregunte al usuario cuántos números de la serie de Fibonnaci quiere generar y que al final los imprima. "
      ],
      "metadata": {
        "id": "6-hbrpW2J9-F"
      }
    },
    {
      "cell_type": "code",
      "source": [
        "def fib(n):\n",
        "  if n < 2:\n",
        "    return n\n",
        "  else:\n",
        "    # fn = fn-1 + fn-2\n",
        "    return fib(n-1) + fib(n-2)\n",
        "for x in range(10):\n",
        "  print(fib(x))\n"
      ],
      "metadata": {
        "colab": {
          "base_uri": "https://localhost:8080/"
        },
        "id": "S3_ejCUcKFe5",
        "outputId": "f843fb14-62b6-4756-d9f5-35f7c938bdd4"
      },
      "execution_count": 2,
      "outputs": [
        {
          "output_type": "stream",
          "name": "stdout",
          "text": [
            "0\n",
            "1\n",
            "1\n",
            "2\n",
            "3\n",
            "5\n",
            "8\n",
            "13\n",
            "21\n",
            "34\n"
          ]
        }
      ]
    }
  ]
}